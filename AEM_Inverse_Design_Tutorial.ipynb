{
  "cells": [
    {
      "cell_type": "markdown",
      "metadata": {
        "id": "view-in-github",
        "colab_type": "text"
      },
      "source": [
        "<a href=\"https://colab.research.google.com/github/ydeng-MLM/NA_ADM_Inverse_Design/blob/master/AEM_Inverse_Design_Tutorial.ipynb\" target=\"_parent\"><img src=\"https://colab.research.google.com/assets/colab-badge.svg\" alt=\"Open In Colab\"/></a>"
      ]
    },
    {
      "cell_type": "markdown",
      "metadata": {
        "id": "yPipWbkJ0-n8"
      },
      "source": [
        "#Notebook for \"Deep Inverse Photonic Design: A Tutorial\""
      ]
    },
    {
      "cell_type": "code",
      "execution_count": null,
      "metadata": {
        "id": "vu1WwUfGKbL2"
      },
      "outputs": [],
      "source": [
        "## Importing necessary Python library for the deep AEM inverse design \n",
        "\n",
        "import torch\n",
        "import torch.nn as nn\n",
        "import torch.nn.functional as F\n",
        "\n",
        "import numpy as np\n",
        "import pandas as pd\n",
        "import matplotlib.pyplot as plt"
      ]
    },
    {
      "cell_type": "code",
      "execution_count": null,
      "metadata": {
        "id": "fVkzBOVbQjee"
      },
      "outputs": [],
      "source": [
        "## Google Colab supports GPU/TPU run time. We recommend switching to GPU\n",
        "## runtime for faster model training\n",
        "\n",
        "use_cuda = torch.cuda.is_available()\n",
        "device = torch.device(\"cuda:0\" if use_cuda else \"cpu\")"
      ]
    },
    {
      "cell_type": "markdown",
      "metadata": {
        "id": "krrbayEYF5zu"
      },
      "source": [
        "#Data Perparation\n",
        "\n",
        "In this tutorial, we take the all dielectric metasurfaces problem studied in \"Deng, Yang, et al. \"Neural-adjoint method for the inverse design of all-dielectric metasurfaces.\" Optics Express 29.5 (2021): 7526-7534.\". The dataset is kept at Duke Digital Repository: https://research.repository.duke.edu/concern/datasets/z316q2403?locale=en. \n"
      ]
    },
    {
      "cell_type": "code",
      "execution_count": null,
      "metadata": {
        "colab": {
          "base_uri": "https://localhost:8080/"
        },
        "id": "ARU-lk-EF0n4",
        "outputId": "01907265-14e7-4b42-9a46-4f79fbb744fd"
      },
      "outputs": [
        {
          "output_type": "stream",
          "name": "stdout",
          "text": [
            "--2022-08-28 17:39:58--  https://research.repository.duke.edu/downloads/xs55mc887?locale=en\n",
            "Resolving research.repository.duke.edu (research.repository.duke.edu)... 152.3.238.32\n",
            "Connecting to research.repository.duke.edu (research.repository.duke.edu)|152.3.238.32|:443... connected.\n",
            "HTTP request sent, awaiting response... 200 OK\n",
            "Length: 1006554462 (960M) [application/zip]\n",
            "Saving to: ‘temp.zip’\n",
            "\n",
            "temp.zip            100%[===================>] 959.92M  15.3MB/s    in 66s     \n",
            "\n",
            "2022-08-28 17:41:05 (14.6 MB/s) - ‘temp.zip’ saved [1006554462/1006554462]\n",
            "\n",
            "Archive:  temp.zip\n",
            "   creating: ADM/\n",
            "  inflating: ADM/data_g.csv          \n",
            "  inflating: ADM/data_s.csv          \n",
            "   creating: ADM/testset/\n",
            "  inflating: ADM/testset/test_g.csv  \n",
            "  inflating: ADM/testset/test_s.csv  \n"
          ]
        }
      ],
      "source": [
        "## This is the dataset downloading block. After excuetion an 'ADM' dataset folder\n",
        "## should appear under your colab directory\n",
        "\n",
        "!wget \"https://research.repository.duke.edu/downloads/xs55mc887?locale=en\" -O temp.zip\n",
        "!unzip temp\n",
        "!rm temp.zip"
      ]
    },
    {
      "cell_type": "code",
      "execution_count": null,
      "metadata": {
        "colab": {
          "base_uri": "https://localhost:8080/"
        },
        "id": "RXpGIDG1LlEu",
        "outputId": "88f4724f-5680-49ac-889f-b350c1fed95c"
      },
      "outputs": [
        {
          "output_type": "stream",
          "name": "stdout",
          "text": [
            "The training set has total size of 52812, geometry has 14 features, and spectrum has 2001 frequency points\n",
            "The validation set has total size of 5868, geometry has 14 features, and spectrum has 2001 frequency points\n"
          ]
        }
      ],
      "source": [
        "## Data is saved as csv files. We use Pandas library to read train/validation \n",
        "## sets into numpy format\n",
        "\n",
        "G_train = pd.read_csv('ADM/data_g.csv', header=None).values.astype('float32') ## Data type needs to be float for DNN\n",
        "s_train = pd.read_csv('ADM/data_s.csv', header=None).values.astype('float32')\n",
        "G_test = pd.read_csv('ADM/testset/test_g.csv', header=None).values.astype('float32')\n",
        "s_test = pd.read_csv('ADM/testset/test_s.csv', header=None).values.astype('float32')\n",
        "\n",
        "## Ensure no data corruption from data loading\n",
        "assert G_train.shape[0] == s_train.shape[0], \"Training set g&s sample size mismatch!\"\n",
        "assert G_test.shape[0] == s_test.shape[0], \"Validation set g&s sample size mismatch!\"\n",
        "\n",
        "\n",
        "print(\"The training set has total size of %i, geometry has %i features, and spectrum has %i frequency points\"%(G_train.shape[0], G_train.shape[1], s_train.shape[1]))\n",
        "print(\"The validation set has total size of %i, geometry has %i features, and spectrum has %i frequency points\"%(G_test.shape[0], G_test.shape[1], s_test.shape[1]))"
      ]
    },
    {
      "cell_type": "code",
      "execution_count": null,
      "metadata": {
        "id": "owl0hris-uDE"
      },
      "outputs": [],
      "source": [
        "## Helper function to normalize the input features to the range of [-1, 1]\n",
        "def normalize_g(g):\n",
        "  for i in range(g.shape[1]):\n",
        "    g_range = (np.max(g[:, i])-np.min(g[:, i]))/2\n",
        "    g_avg = (np.max(g[:, i])+np.min(g[:, i]))/2\n",
        "    g[:, i] = (g[:, i] - g_avg)/g_range\n",
        "\n",
        "  return g"
      ]
    },
    {
      "cell_type": "code",
      "execution_count": null,
      "metadata": {
        "colab": {
          "base_uri": "https://localhost:8080/"
        },
        "id": "RsnpIzqd-U37",
        "outputId": "421c04a5-861b-4e7a-b095-b0d45eefe659"
      },
      "outputs": [
        {
          "output_type": "stream",
          "name": "stdout",
          "text": [
            "Original geometry feature 0 has max 0.60, min 0.30.\n",
            "Original geometry feature 1 has max 1.50, min 1.00.\n",
            "Original geometry feature 2 has max 0.20, min 0.10.\n",
            "Original geometry feature 3 has max 0.20, min 0.10.\n",
            "Original geometry feature 4 has max 0.20, min 0.10.\n",
            "Original geometry feature 5 has max 0.20, min 0.10.\n",
            "Original geometry feature 6 has max 0.20, min 0.10.\n",
            "Original geometry feature 7 has max 0.20, min 0.10.\n",
            "Original geometry feature 8 has max 0.20, min 0.10.\n",
            "Original geometry feature 9 has max 0.20, min 0.10.\n",
            "Original geometry feature 10 has max 0.79, min -0.79.\n",
            "Original geometry feature 11 has max 0.79, min -0.79.\n",
            "Original geometry feature 12 has max 0.79, min -0.79.\n",
            "Original geometry feature 13 has max 0.79, min -0.79.\n",
            "Normalized geometry feature 0 has max 1.00, min -1.00.\n",
            "Normalized geometry feature 1 has max 1.00, min -1.00.\n",
            "Normalized geometry feature 2 has max 1.00, min -1.00.\n",
            "Normalized geometry feature 3 has max 1.00, min -1.00.\n",
            "Normalized geometry feature 4 has max 1.00, min -1.00.\n",
            "Normalized geometry feature 5 has max 1.00, min -1.00.\n",
            "Normalized geometry feature 6 has max 1.00, min -1.00.\n",
            "Normalized geometry feature 7 has max 1.00, min -1.00.\n",
            "Normalized geometry feature 8 has max 1.00, min -1.00.\n",
            "Normalized geometry feature 9 has max 1.00, min -1.00.\n",
            "Normalized geometry feature 10 has max 1.00, min -1.00.\n",
            "Normalized geometry feature 11 has max 1.00, min -1.00.\n",
            "Normalized geometry feature 12 has max 1.00, min -1.00.\n",
            "Normalized geometry feature 13 has max 1.00, min -1.00.\n"
          ]
        }
      ],
      "source": [
        "for i in range(G_train.shape[1]):\n",
        "  print(\"Original geometry feature %i has max %.2f, min %.2f.\"%(i, np.max(G_train[:, i]), np.min(G_train[:, i])))\n",
        "\n",
        "G_train = normalize_g(G_train)\n",
        "G_test = normalize_g(G_test)\n",
        "\n",
        "for i in range(G_train.shape[1]):\n",
        "  print(\"Normalized geometry feature %i has max %.2f, min %.2f.\"%(i, np.max(G_train[:, i]), np.min(G_train[:, i])))"
      ]
    },
    {
      "cell_type": "code",
      "execution_count": null,
      "metadata": {
        "id": "PFcWi9ZdM1z7"
      },
      "outputs": [],
      "source": [
        "## Create Pytroch class instance for ADM dataset \n",
        "class ADMDataSet(torch.utils.data.Dataset):\n",
        "  def __init__(self, g, s):\n",
        "    self.g = g\n",
        "    self.s = s\n",
        "    self.len = len(g)\n",
        "\n",
        "  def __len__(self):\n",
        "    return self.len\n",
        "  \n",
        "  def __getitem__(self, ind):\n",
        "    return self.g[ind, :], self.s[ind, :]"
      ]
    },
    {
      "cell_type": "code",
      "execution_count": null,
      "metadata": {
        "id": "sMTvhtZORer3"
      },
      "outputs": [],
      "source": [
        "## Prepare datasets as Pytorch dataloader for training\n",
        "trainset = ADMDataSet(G_train, s_train[:,:-1])  #We crop the last point of the spectrum for easier handling with conv layers, user may choose to downsample the spectrum/output\n",
        "trainloader = torch.utils.data.DataLoader(trainset, batch_size=1024, shuffle=True)  # batch size at 1024 is optimized for ADM MLP\n",
        "\n",
        "testset = ADMDataSet(G_test, s_test[:,:-1])\n",
        "testloader = torch.utils.data.DataLoader(testset, batch_size=1024, shuffle=True)"
      ]
    },
    {
      "cell_type": "code",
      "execution_count": null,
      "metadata": {
        "id": "z0QKime6W8nm"
      },
      "outputs": [],
      "source": [
        "## Take a small portion of the dataset as training data\n",
        "## You can also use the small dataset to expolre the effect of insufficent data on training\n",
        "N = 100\n",
        "trainset_small = ADMDataSet(G_train[:N,:], s_train[:N,:-1])\n",
        "trainloader_small = torch.utils.data.DataLoader(trainset_small, batch_size=16, shuffle=True)\n",
        "testset_small = ADMDataSet(G_test[:N,:], s_test[:N,:-1])\n",
        "testloader_small = torch.utils.data.DataLoader(testset_small, batch_size=32, shuffle=True)"
      ]
    },
    {
      "cell_type": "markdown",
      "metadata": {
        "id": "cqqVk1nfTZbI"
      },
      "source": [
        "#The DNN model\n",
        "\n",
        "We define two multilayer perceptrons networks. The first one is a four layers vanilla MLP that will be used for quick demonstrations. "
      ]
    },
    {
      "cell_type": "code",
      "execution_count": null,
      "metadata": {
        "id": "uvUt9Y41SZqN"
      },
      "outputs": [],
      "source": [
        "# Four layers vanilla MLP - we are using it as the small (less complex) model\n",
        "class SmallMLP(nn.Module):\n",
        "  def __init__(self):\n",
        "    super(SmallMLP, self).__init__()\n",
        "    self.fc1 = nn.Linear(14, 500)\n",
        "    self.fc2 = nn.Linear(500, 500)\n",
        "    self.fc3 = nn.Linear(500, 500)\n",
        "    self.fc4 = nn.Linear(500, 2000)\n",
        "            \n",
        "  def forward(self, x):\n",
        "    out = F.relu(self.fc1(x))\n",
        "    out = F.relu(self.fc2(out))\n",
        "    out = F.relu(self.fc3(out))\n",
        "    out = self.fc4(out)\n",
        "    return out"
      ]
    },
    {
      "cell_type": "code",
      "execution_count": null,
      "metadata": {
        "id": "ig0BrB6HvTjE"
      },
      "outputs": [],
      "source": [
        "# Overly complex model \n",
        "class LargeMLP(nn.Module):\n",
        "  def __init__(self):\n",
        "    super(LargeMLP, self).__init__()\n",
        "    self.linear = [14, 20000, 20000, 2000]\n",
        "    self.linears = nn.ModuleList([])\n",
        "    self.bn_linears = nn.ModuleList([])\n",
        "\n",
        "    for ind, fc_num in enumerate(self.linear[:-1]):\n",
        "      self.linears.append(nn.Linear(fc_num, self.linear[ind + 1]))\n",
        "            \n",
        "  def forward(self, g):\n",
        "    out = g\n",
        "    for ind, fc in enumerate(self.linears):\n",
        "      if ind < len(self.linears) - 1:\n",
        "        out = F.relu(fc(out))\n",
        "      else:\n",
        "        out = fc(out)\n",
        "    \n",
        "    return out"
      ]
    },
    {
      "cell_type": "code",
      "execution_count": null,
      "metadata": {
        "id": "oXeBs5Z4rURo"
      },
      "outputs": [],
      "source": [
        "## Optimized pure MLP architecture for ADM\n",
        "class ADMNN(nn.Module):\n",
        "  def __init__(self):\n",
        "    super(ADMNN, self).__init__()\n",
        "    self.linear = [14, 2000, 2000, 2000, 2000, 2000, 2000, 2000, 2000, 2000, 2000, 2000]  ## Optimized pure MLP architecture, tutorial case study ueses MLP+1D conv architecture\n",
        "    self.linears = nn.ModuleList([])\n",
        "    self.bn_linears = nn.ModuleList([])\n",
        "\n",
        "    for ind, fc_num in enumerate(self.linear[:-1]):\n",
        "      self.linears.append(nn.Linear(fc_num, self.linear[ind + 1]))\n",
        "      self.bn_linears.append(nn.BatchNorm1d(self.linear[ind + 1]))\n",
        "            \n",
        "  def forward(self, g):\n",
        "    out = g\n",
        "    for ind, (fc, bn) in enumerate(zip(self.linears, self.bn_linears)):\n",
        "      if ind < len(self.linears) - 1:\n",
        "        out = F.relu(bn(fc(out)))\n",
        "      else:\n",
        "        out = fc(out)\n",
        "    \n",
        "    return out"
      ]
    },
    {
      "cell_type": "code",
      "execution_count": null,
      "metadata": {
        "colab": {
          "base_uri": "https://localhost:8080/"
        },
        "id": "v7a7yb5OTXlQ",
        "outputId": "43165ed1-f20c-47b7-d9cd-6777e8554afc"
      },
      "outputs": [
        {
          "output_type": "stream",
          "name": "stdout",
          "text": [
            "batch size: torch.Size([1024, 14])\n",
            "torch.Size([1024, 2000])\n",
            "batch size: torch.Size([1024, 14])\n",
            "torch.Size([1024, 2000])\n"
          ]
        }
      ],
      "source": [
        "## test the model with 1 batch\n",
        "model = SmallMLP()\n",
        "for g, s in trainloader:\n",
        "  print(\"batch size:\", g.shape)\n",
        "  out = model(g)\n",
        "  print(out.shape)\n",
        "  break\n",
        "\n",
        "model = ADMNN()\n",
        "for g, s in trainloader:\n",
        "  print(\"batch size:\", g.shape)\n",
        "  out = model(g)\n",
        "  print(out.shape)\n",
        "  break"
      ]
    },
    {
      "cell_type": "markdown",
      "metadata": {
        "id": "V5zy7ngvVZE3"
      },
      "source": [
        "#Demonstration of under/over-fitting\n",
        "\n",
        "In this section, we train demonstrate underfitting/overfitting on a small MLP model (less complex) and a large MLP model (over complex).\n",
        "\n"
      ]
    },
    {
      "cell_type": "code",
      "execution_count": null,
      "metadata": {
        "id": "xEeT9DUsNaHo"
      },
      "outputs": [],
      "source": [
        "## Define the model training function here for abstractions in different model trainings\n",
        "\n",
        "def model_train(trainloader, testloader, model, Loss, optimizer, scheduler=None, num_epochs=100):\n",
        "  train_loss_arr = []\n",
        "  val_loss_arr = []\n",
        "\n",
        "  for epoch in range(num_epochs):\n",
        "    train_running_loss = 0.0\n",
        "    val_running_loss = 0\n",
        "    model.train()\n",
        "    \n",
        "    for i, (g, s) in enumerate(trainloader):\n",
        "      g = g.to(device)\n",
        "      s = s.to(device)\n",
        "\n",
        "      logits = model(g)\n",
        "      loss = Loss(logits, s)\n",
        "      optimizer.zero_grad()\n",
        "      loss.backward()\n",
        "\n",
        "      optimizer.step()\n",
        "\n",
        "      train_running_loss += loss.detach().item()\n",
        "      del loss, logits\n",
        "\n",
        "    train_avg_loss = train_running_loss/(i+1)\n",
        "        \n",
        "    model.eval()\n",
        "    if epoch%eval_step == 0:\n",
        "      for j, (g, s) in enumerate(testloader):\n",
        "        g = g.to(device)\n",
        "        s = s.to(device)\n",
        "        \n",
        "        logits = model(g)\n",
        "        loss = Loss(logits, s)\n",
        "        val_running_loss += loss.detach().item()\n",
        "        del loss, logits\n",
        "\n",
        "      val_avg_loss = val_running_loss/(j+1)\n",
        "      print('Epoch: %d | Train Loss: %.4f | Test Loss: %.4f'%(epoch, train_avg_loss, val_avg_loss))  \n",
        "      train_loss_arr.append(train_avg_loss)\n",
        "      val_loss_arr.append(val_avg_loss)\n",
        "    \n",
        "    if scheduler != None:\n",
        "      scheduler.step(train_avg_loss)\n",
        "  \n",
        "  return train_loss_arr, val_loss_arr"
      ]
    },
    {
      "cell_type": "markdown",
      "metadata": {
        "id": "fJOg3fbXW1df"
      },
      "source": [
        "The underfitting training set up"
      ]
    },
    {
      "cell_type": "code",
      "execution_count": null,
      "metadata": {
        "id": "DNEUm9RDdWwr"
      },
      "outputs": [],
      "source": [
        "learning_rate = 0.001\n",
        "num_epochs = 500\n",
        "eval_step = 10\n",
        "\n",
        "small_model = SmallMLP()\n",
        "small_model = small_model.to(device)\n",
        "Loss = nn.MSELoss()\n",
        "optimizer = torch.optim.Adam(small_model.parameters(), lr=learning_rate)"
      ]
    },
    {
      "cell_type": "code",
      "execution_count": null,
      "metadata": {
        "colab": {
          "base_uri": "https://localhost:8080/"
        },
        "id": "GRyRbPDxOb1I",
        "outputId": "0e6c071f-f198-4221-c7a8-95439638afc5"
      },
      "outputs": [
        {
          "output_type": "stream",
          "name": "stdout",
          "text": [
            "Epoch: 0 | Train Loss: 0.0476 | Test Loss: 0.0141\n",
            "Epoch: 10 | Train Loss: 0.0060 | Test Loss: 0.0059\n",
            "Epoch: 20 | Train Loss: 0.0051 | Test Loss: 0.0051\n",
            "Epoch: 30 | Train Loss: 0.0044 | Test Loss: 0.0046\n",
            "Epoch: 40 | Train Loss: 0.0040 | Test Loss: 0.0041\n",
            "Epoch: 50 | Train Loss: 0.0037 | Test Loss: 0.0038\n",
            "Epoch: 60 | Train Loss: 0.0034 | Test Loss: 0.0035\n",
            "Epoch: 70 | Train Loss: 0.0032 | Test Loss: 0.0033\n",
            "Epoch: 80 | Train Loss: 0.0031 | Test Loss: 0.0033\n",
            "Epoch: 90 | Train Loss: 0.0029 | Test Loss: 0.0031\n",
            "Epoch: 100 | Train Loss: 0.0028 | Test Loss: 0.0031\n",
            "Epoch: 110 | Train Loss: 0.0027 | Test Loss: 0.0029\n",
            "Epoch: 120 | Train Loss: 0.0026 | Test Loss: 0.0029\n",
            "Epoch: 130 | Train Loss: 0.0025 | Test Loss: 0.0028\n",
            "Epoch: 140 | Train Loss: 0.0025 | Test Loss: 0.0028\n",
            "Epoch: 150 | Train Loss: 0.0024 | Test Loss: 0.0028\n",
            "Epoch: 160 | Train Loss: 0.0023 | Test Loss: 0.0027\n",
            "Epoch: 170 | Train Loss: 0.0023 | Test Loss: 0.0028\n",
            "Epoch: 180 | Train Loss: 0.0022 | Test Loss: 0.0027\n",
            "Epoch: 190 | Train Loss: 0.0022 | Test Loss: 0.0026\n",
            "Epoch: 200 | Train Loss: 0.0021 | Test Loss: 0.0026\n",
            "Epoch: 210 | Train Loss: 0.0021 | Test Loss: 0.0026\n",
            "Epoch: 220 | Train Loss: 0.0021 | Test Loss: 0.0025\n",
            "Epoch: 230 | Train Loss: 0.0020 | Test Loss: 0.0025\n",
            "Epoch: 240 | Train Loss: 0.0020 | Test Loss: 0.0025\n",
            "Epoch: 250 | Train Loss: 0.0020 | Test Loss: 0.0025\n",
            "Epoch: 260 | Train Loss: 0.0020 | Test Loss: 0.0025\n",
            "Epoch: 270 | Train Loss: 0.0019 | Test Loss: 0.0025\n",
            "Epoch: 280 | Train Loss: 0.0019 | Test Loss: 0.0025\n",
            "Epoch: 290 | Train Loss: 0.0019 | Test Loss: 0.0025\n",
            "Epoch: 300 | Train Loss: 0.0019 | Test Loss: 0.0024\n",
            "Epoch: 310 | Train Loss: 0.0018 | Test Loss: 0.0024\n",
            "Epoch: 320 | Train Loss: 0.0018 | Test Loss: 0.0025\n",
            "Epoch: 330 | Train Loss: 0.0018 | Test Loss: 0.0025\n",
            "Epoch: 340 | Train Loss: 0.0018 | Test Loss: 0.0024\n",
            "Epoch: 350 | Train Loss: 0.0018 | Test Loss: 0.0024\n",
            "Epoch: 360 | Train Loss: 0.0018 | Test Loss: 0.0024\n",
            "Epoch: 370 | Train Loss: 0.0018 | Test Loss: 0.0024\n",
            "Epoch: 380 | Train Loss: 0.0018 | Test Loss: 0.0024\n",
            "Epoch: 390 | Train Loss: 0.0017 | Test Loss: 0.0025\n",
            "Epoch: 400 | Train Loss: 0.0017 | Test Loss: 0.0024\n",
            "Epoch: 410 | Train Loss: 0.0017 | Test Loss: 0.0024\n",
            "Epoch: 420 | Train Loss: 0.0017 | Test Loss: 0.0024\n",
            "Epoch: 430 | Train Loss: 0.0017 | Test Loss: 0.0024\n",
            "Epoch: 440 | Train Loss: 0.0017 | Test Loss: 0.0024\n",
            "Epoch: 450 | Train Loss: 0.0017 | Test Loss: 0.0024\n",
            "Epoch: 460 | Train Loss: 0.0017 | Test Loss: 0.0024\n",
            "Epoch: 470 | Train Loss: 0.0017 | Test Loss: 0.0024\n",
            "Epoch: 480 | Train Loss: 0.0017 | Test Loss: 0.0024\n",
            "Epoch: 490 | Train Loss: 0.0016 | Test Loss: 0.0024\n"
          ]
        }
      ],
      "source": [
        "small_train_loss_arr, small_val_loss_arr = model_train(trainloader, testloader, small_model, Loss, optimizer, scheduler=None, num_epochs=num_epochs)"
      ]
    },
    {
      "cell_type": "code",
      "execution_count": null,
      "metadata": {
        "colab": {
          "base_uri": "https://localhost:8080/",
          "height": 279
        },
        "id": "Ln3RtajldPWt",
        "outputId": "e05c3fb8-e824-4b49-b4e9-0d84ed99e92f"
      },
      "outputs": [
        {
          "output_type": "display_data",
          "data": {
            "text/plain": [
              "<Figure size 432x288 with 1 Axes>"
            ],
            "image/png": "[encoded data removed]"
          },
          "metadata": {
            "needs_background": "light"
          }
        }
      ],
      "source": [
        "epoch = np.linspace(0, num_epochs, len(small_train_loss_arr))\n",
        "\n",
        "plt.figure()\n",
        "plt.plot(epoch, small_train_loss_arr, label='Train')\n",
        "plt.plot(epoch, small_val_loss_arr, label='Validate')\n",
        "plt.xlabel('Epoch')\n",
        "plt.ylabel('MSE')\n",
        "plt.xlim([0, num_epochs])\n",
        "plt.yscale('log')"
      ]
    },
    {
      "cell_type": "markdown",
      "metadata": {
        "id": "xsMgl-spdvhq"
      },
      "source": [
        "The overfitting set up"
      ]
    },
    {
      "cell_type": "code",
      "execution_count": null,
      "metadata": {
        "id": "Ulp0rBSDd1eL"
      },
      "outputs": [],
      "source": [
        "learning_rate = 1e-3\n",
        "lr_decay_rate = 0.2\n",
        "wr = 1e-4\n",
        "num_epochs = 500\n",
        "eval_step = 10\n",
        "\n",
        "large_model = LargeMLP()\n",
        "large_model = large_model.to(device)\n",
        "Loss = nn.MSELoss()\n",
        "optimizer = torch.optim.Adam(large_model.parameters(), lr=learning_rate, weight_decay=wr)\n",
        "scheduler = torch.optim.lr_scheduler.ReduceLROnPlateau(optimizer=optimizer, mode='min', factor=lr_decay_rate,\n",
        "                                              patience=10, verbose=True, threshold=1e-4)"
      ]
    },
    {
      "cell_type": "code",
      "execution_count": null,
      "metadata": {
        "colab": {
          "base_uri": "https://localhost:8080/"
        },
        "id": "ci1I5j4VSndM",
        "outputId": "51242a2f-69a1-44aa-f132-54b166b3d3d4"
      },
      "outputs": [
        {
          "output_type": "stream",
          "name": "stdout",
          "text": [
            "Epoch: 0 | Train Loss: 108.5447 | Test Loss: 0.2128\n",
            "Epoch: 10 | Train Loss: 0.0660 | Test Loss: 0.0204\n",
            "Epoch: 20 | Train Loss: 0.0156 | Test Loss: 0.0251\n",
            "Epoch: 30 | Train Loss: 0.0029 | Test Loss: 0.0131\n",
            "Epoch: 40 | Train Loss: 0.0011 | Test Loss: 0.0140\n",
            "Epoch: 50 | Train Loss: 0.0008 | Test Loss: 0.0131\n",
            "Epoch: 60 | Train Loss: 0.0006 | Test Loss: 0.0130\n",
            "Epoch: 70 | Train Loss: 0.0005 | Test Loss: 0.0130\n",
            "Epoch 00080: reducing learning rate of group 0 to 2.0000e-04.\n",
            "Epoch: 80 | Train Loss: 0.0005 | Test Loss: 0.0127\n",
            "Epoch: 90 | Train Loss: 0.0003 | Test Loss: 0.0127\n",
            "Epoch: 100 | Train Loss: 0.0002 | Test Loss: 0.0127\n",
            "Epoch 00107: reducing learning rate of group 0 to 4.0000e-05.\n",
            "Epoch: 110 | Train Loss: 0.0002 | Test Loss: 0.0127\n",
            "Epoch: 120 | Train Loss: 0.0002 | Test Loss: 0.0127\n",
            "Epoch: 130 | Train Loss: 0.0002 | Test Loss: 0.0127\n",
            "Epoch: 140 | Train Loss: 0.0002 | Test Loss: 0.0127\n",
            "Epoch 00145: reducing learning rate of group 0 to 8.0000e-06.\n",
            "Epoch: 150 | Train Loss: 0.0002 | Test Loss: 0.0127\n",
            "Epoch 00159: reducing learning rate of group 0 to 1.6000e-06.\n",
            "Epoch: 160 | Train Loss: 0.0002 | Test Loss: 0.0127\n",
            "Epoch 00170: reducing learning rate of group 0 to 3.2000e-07.\n",
            "Epoch: 170 | Train Loss: 0.0002 | Test Loss: 0.0127\n",
            "Epoch: 180 | Train Loss: 0.0002 | Test Loss: 0.0127\n",
            "Epoch 00181: reducing learning rate of group 0 to 6.4000e-08.\n",
            "Epoch: 190 | Train Loss: 0.0002 | Test Loss: 0.0127\n",
            "Epoch 00192: reducing learning rate of group 0 to 1.2800e-08.\n",
            "Epoch: 200 | Train Loss: 0.0002 | Test Loss: 0.0127\n",
            "Epoch 00203: reducing learning rate of group 0 to 2.5600e-09.\n",
            "Epoch: 210 | Train Loss: 0.0002 | Test Loss: 0.0127\n",
            "Epoch: 220 | Train Loss: 0.0002 | Test Loss: 0.0127\n",
            "Epoch: 230 | Train Loss: 0.0002 | Test Loss: 0.0127\n",
            "Epoch: 240 | Train Loss: 0.0002 | Test Loss: 0.0127\n",
            "Epoch: 250 | Train Loss: 0.0002 | Test Loss: 0.0127\n",
            "Epoch: 260 | Train Loss: 0.0002 | Test Loss: 0.0127\n",
            "Epoch: 270 | Train Loss: 0.0002 | Test Loss: 0.0127\n",
            "Epoch: 280 | Train Loss: 0.0002 | Test Loss: 0.0127\n",
            "Epoch: 290 | Train Loss: 0.0002 | Test Loss: 0.0127\n",
            "Epoch: 300 | Train Loss: 0.0002 | Test Loss: 0.0127\n",
            "Epoch: 310 | Train Loss: 0.0002 | Test Loss: 0.0127\n",
            "Epoch: 320 | Train Loss: 0.0002 | Test Loss: 0.0127\n",
            "Epoch: 330 | Train Loss: 0.0002 | Test Loss: 0.0127\n",
            "Epoch: 340 | Train Loss: 0.0002 | Test Loss: 0.0127\n",
            "Epoch: 350 | Train Loss: 0.0002 | Test Loss: 0.0127\n",
            "Epoch: 360 | Train Loss: 0.0002 | Test Loss: 0.0127\n",
            "Epoch: 370 | Train Loss: 0.0002 | Test Loss: 0.0127\n",
            "Epoch: 380 | Train Loss: 0.0002 | Test Loss: 0.0127\n",
            "Epoch: 390 | Train Loss: 0.0002 | Test Loss: 0.0127\n",
            "Epoch: 400 | Train Loss: 0.0002 | Test Loss: 0.0127\n",
            "Epoch: 410 | Train Loss: 0.0002 | Test Loss: 0.0127\n",
            "Epoch: 420 | Train Loss: 0.0002 | Test Loss: 0.0127\n",
            "Epoch: 430 | Train Loss: 0.0002 | Test Loss: 0.0127\n",
            "Epoch: 440 | Train Loss: 0.0002 | Test Loss: 0.0127\n",
            "Epoch: 450 | Train Loss: 0.0002 | Test Loss: 0.0127\n",
            "Epoch: 460 | Train Loss: 0.0002 | Test Loss: 0.0127\n",
            "Epoch: 470 | Train Loss: 0.0002 | Test Loss: 0.0127\n",
            "Epoch: 480 | Train Loss: 0.0002 | Test Loss: 0.0127\n",
            "Epoch: 490 | Train Loss: 0.0002 | Test Loss: 0.0127\n"
          ]
        }
      ],
      "source": [
        "large_train_loss_arr, large_val_loss_arr = model_train(trainloader_small, testloader, large_model, Loss, optimizer, scheduler=scheduler, num_epochs=num_epochs)"
      ]
    },
    {
      "cell_type": "code",
      "execution_count": null,
      "metadata": {
        "colab": {
          "base_uri": "https://localhost:8080/",
          "height": 279
        },
        "id": "Zlovcu6HiA7S",
        "outputId": "2c8893bb-f400-44cc-bcec-c6885d0ea439"
      },
      "outputs": [
        {
          "output_type": "display_data",
          "data": {
            "text/plain": [
              "<Figure size 432x288 with 1 Axes>"
            ],
            "image/png": "[encoded data removed]"
          },
          "metadata": {
            "needs_background": "light"
          }
        }
      ],
      "source": [
        "epoch = np.linspace(0, num_epochs, len(large_train_loss_arr))\n",
        "\n",
        "plt.figure()\n",
        "plt.plot(epoch, large_train_loss_arr, label='Train')\n",
        "plt.plot(epoch, large_val_loss_arr, label='Validation')\n",
        "plt.xlabel('Epoch')\n",
        "plt.ylabel('MSE')\n",
        "plt.xlim([0, num_epochs])\n",
        "plt.yscale('log')"
      ]
    },
    {
      "cell_type": "markdown",
      "metadata": {
        "id": "Wr-cilUVwJ_m"
      },
      "source": [
        "# Training the model with optimal parameters"
      ]
    },
    {
      "cell_type": "code",
      "execution_count": null,
      "metadata": {
        "id": "8aUvOECcwJUg"
      },
      "outputs": [],
      "source": [
        "learning_rate = 1e-4\n",
        "lr_decay_rate = 0.2\n",
        "wr = 1e-4\n",
        "num_epochs = 500\n",
        "eval_step = 10\n",
        "\n",
        "model = ADMNN()\n",
        "model = model.to(device)\n",
        "Loss = nn.MSELoss()\n",
        "optimizer = torch.optim.Adam(model.parameters(), lr=learning_rate, weight_decay=wr)\n",
        "scheduler = torch.optim.lr_scheduler.ReduceLROnPlateau(optimizer=optimizer, mode='min', factor=lr_decay_rate,\n",
        "                                              patience=10, verbose=True, threshold=1e-4)"
      ]
    },
    {
      "cell_type": "code",
      "execution_count": null,
      "metadata": {
        "colab": {
          "base_uri": "https://localhost:8080/"
        },
        "id": "NoLn4nvCWOeU",
        "outputId": "c744d70b-af72-45dc-f4a8-ff392f2d5fd7"
      },
      "outputs": [
        {
          "output_type": "stream",
          "name": "stdout",
          "text": [
            "Epoch: 0 | Train Loss: 0.0705 | Test Loss: 0.0167\n",
            "Epoch: 10 | Train Loss: 0.0055 | Test Loss: 0.0069\n",
            "Epoch: 20 | Train Loss: 0.0043 | Test Loss: 0.0042\n",
            "Epoch: 30 | Train Loss: 0.0042 | Test Loss: 0.0080\n",
            "Epoch: 40 | Train Loss: 0.0040 | Test Loss: 0.0055\n",
            "Epoch: 50 | Train Loss: 0.0036 | Test Loss: 0.0050\n",
            "Epoch: 60 | Train Loss: 0.0035 | Test Loss: 0.0045\n",
            "Epoch: 70 | Train Loss: 0.0031 | Test Loss: 0.0033\n",
            "Epoch: 80 | Train Loss: 0.0029 | Test Loss: 0.0038\n",
            "Epoch: 90 | Train Loss: 0.0028 | Test Loss: 0.0033\n",
            "Epoch: 100 | Train Loss: 0.0035 | Test Loss: 0.0076\n",
            "Epoch 00104: reducing learning rate of group 0 to 2.0000e-05.\n",
            "Epoch: 110 | Train Loss: 0.0019 | Test Loss: 0.0021\n",
            "Epoch: 120 | Train Loss: 0.0018 | Test Loss: 0.0021\n",
            "Epoch: 130 | Train Loss: 0.0018 | Test Loss: 0.0020\n",
            "Epoch: 140 | Train Loss: 0.0017 | Test Loss: 0.0023\n",
            "Epoch: 150 | Train Loss: 0.0017 | Test Loss: 0.0019\n",
            "Epoch: 160 | Train Loss: 0.0016 | Test Loss: 0.0023\n",
            "Epoch: 170 | Train Loss: 0.0015 | Test Loss: 0.0017\n",
            "Epoch: 180 | Train Loss: 0.0014 | Test Loss: 0.0019\n",
            "Epoch: 190 | Train Loss: 0.0014 | Test Loss: 0.0020\n",
            "Epoch: 200 | Train Loss: 0.0013 | Test Loss: 0.0016\n",
            "Epoch: 210 | Train Loss: 0.0013 | Test Loss: 0.0017\n",
            "Epoch: 220 | Train Loss: 0.0012 | Test Loss: 0.0017\n",
            "Epoch: 230 | Train Loss: 0.0012 | Test Loss: 0.0016\n",
            "Epoch: 240 | Train Loss: 0.0012 | Test Loss: 0.0017\n",
            "Epoch: 250 | Train Loss: 0.0012 | Test Loss: 0.0017\n",
            "Epoch: 260 | Train Loss: 0.0012 | Test Loss: 0.0017\n",
            "Epoch: 270 | Train Loss: 0.0011 | Test Loss: 0.0015\n",
            "Epoch: 280 | Train Loss: 0.0011 | Test Loss: 0.0016\n",
            "Epoch: 290 | Train Loss: 0.0011 | Test Loss: 0.0016\n",
            "Epoch: 300 | Train Loss: 0.0010 | Test Loss: 0.0015\n",
            "Epoch: 310 | Train Loss: 0.0011 | Test Loss: 0.0016\n",
            "Epoch 00312: reducing learning rate of group 0 to 4.0000e-06.\n",
            "Epoch: 320 | Train Loss: 0.0008 | Test Loss: 0.0013\n",
            "Epoch: 330 | Train Loss: 0.0008 | Test Loss: 0.0013\n",
            "Epoch: 340 | Train Loss: 0.0008 | Test Loss: 0.0013\n",
            "Epoch: 350 | Train Loss: 0.0008 | Test Loss: 0.0013\n",
            "Epoch: 360 | Train Loss: 0.0008 | Test Loss: 0.0014\n",
            "Epoch: 370 | Train Loss: 0.0008 | Test Loss: 0.0013\n",
            "Epoch: 380 | Train Loss: 0.0008 | Test Loss: 0.0013\n",
            "Epoch: 390 | Train Loss: 0.0007 | Test Loss: 0.0013\n",
            "Epoch: 400 | Train Loss: 0.0007 | Test Loss: 0.0013\n",
            "Epoch 00406: reducing learning rate of group 0 to 8.0000e-07.\n",
            "Epoch: 410 | Train Loss: 0.0007 | Test Loss: 0.0012\n",
            "Epoch: 420 | Train Loss: 0.0007 | Test Loss: 0.0013\n",
            "Epoch: 430 | Train Loss: 0.0006 | Test Loss: 0.0013\n",
            "Epoch: 440 | Train Loss: 0.0006 | Test Loss: 0.0013\n",
            "Epoch: 450 | Train Loss: 0.0006 | Test Loss: 0.0013\n",
            "Epoch: 460 | Train Loss: 0.0006 | Test Loss: 0.0013\n",
            "Epoch: 470 | Train Loss: 0.0006 | Test Loss: 0.0013\n",
            "Epoch: 480 | Train Loss: 0.0006 | Test Loss: 0.0013\n",
            "Epoch: 490 | Train Loss: 0.0006 | Test Loss: 0.0013\n"
          ]
        }
      ],
      "source": [
        "train_loss_arr, val_loss_arr = model_train(trainloader, testloader, model, Loss, optimizer, scheduler=scheduler, num_epochs=num_epochs)"
      ]
    },
    {
      "cell_type": "code",
      "execution_count": null,
      "metadata": {
        "colab": {
          "base_uri": "https://localhost:8080/",
          "height": 387
        },
        "id": "m7ff_JuNlUhk",
        "outputId": "831c4fcc-88c4-4a4c-a3d7-f126d02d3777"
      },
      "outputs": [
        {
          "output_type": "display_data",
          "data": {
            "text/plain": [
              "<Figure size 576x432 with 1 Axes>"
            ],
            "image/png": "[encoded data removed]"
          },
          "metadata": {
            "needs_background": "light"
          }
        }
      ],
      "source": [
        "epoch = np.linspace(0, num_epochs, len(train_loss_arr))\n",
        "\n",
        "plt.figure()\n",
        "plt.plot(epoch, train_loss_arr, label='Train')\n",
        "plt.plot(epoch, val_loss_arr, label='Validation')\n",
        "plt.xlabel('Epoch')\n",
        "plt.ylabel('MSE')\n",
        "plt.xlim([0, num_epochs])\n",
        "plt.yscale('log')"
      ]
    },
    {
      "cell_type": "markdown",
      "metadata": {
        "id": "W7WtdEv2TorK"
      },
      "source": [
        "# Figure generation"
      ]
    },
    {
      "cell_type": "code",
      "source": [
        "np.savetxt('small_train.csv', small_train_loss_arr)\n",
        "np.savetxt('small_val.csv', small_val_loss_arr)\n",
        "np.savetxt('large_train.csv', large_train_loss_arr)\n",
        "np.savetxt('large_val.csv', large_val_loss_arr)\n",
        "np.savetxt('optimal_train.csv', train_loss_arr)\n",
        "np.savetxt('optimal_val.csv', val_loss_arr)"
      ],
      "metadata": {
        "id": "P6Hy-k4sio_L"
      },
      "execution_count": null,
      "outputs": []
    },
    {
      "cell_type": "code",
      "source": [
        "small_train_loss_arr = pd.read_csv('small_train.csv', header=None).values\n",
        "small_val_loss_arr = pd.read_csv('small_val.csv', header=None).values\n",
        "large_train_loss_arr = pd.read_csv('large_train.csv', header=None).values\n",
        "large_val_loss_arr = pd.read_csv('large_val.csv', header=None).values\n",
        "train_loss_arr = pd.read_csv('optimal_train.csv', header=None).values\n",
        "val_loss_arr = pd.read_csv('optimal_val.csv', header=None).values"
      ],
      "metadata": {
        "id": "v2lpldwWVG9E"
      },
      "execution_count": null,
      "outputs": []
    },
    {
      "cell_type": "code",
      "source": [
        "import pandas as pd\n",
        "import numpy as np"
      ],
      "metadata": {
        "id": "zAAUuMFyVDOe"
      },
      "execution_count": null,
      "outputs": []
    },
    {
      "cell_type": "code",
      "execution_count": null,
      "metadata": {
        "id": "AmbeuxDsyVOO"
      },
      "outputs": [],
      "source": [
        "!sudo apt-get install dvipng texlive-latex-extra texlive-fonts-recommended cm-super"
      ]
    },
    {
      "cell_type": "code",
      "execution_count": null,
      "metadata": {
        "id": "w5GNkNopyVqd"
      },
      "outputs": [],
      "source": [
        "!pip install SciencePlots\n",
        "import matplotlib.pyplot as plt\n",
        "plt.style.reload_library()\n",
        "plt.style.use(['science', 'nature'])"
      ]
    },
    {
      "cell_type": "code",
      "execution_count": null,
      "metadata": {
        "colab": {
          "base_uri": "https://localhost:8080/",
          "height": 1000
        },
        "id": "7krw27lCgFuy",
        "outputId": "25aba27b-6ced-401d-f65a-a15a3e221d99"
      },
      "outputs": [
        {
          "output_type": "display_data",
          "data": {
            "text/plain": [
              "<Figure size 1800x1200 with 1 Axes>"
            ],
            "image/png": "[encoded data removed]"
          },
          "metadata": {
            "needs_background": "light"
          }
        }
      ],
      "source": [
        "epoch = np.linspace(0, num_epochs, len(large_train_loss_arr))\n",
        "\n",
        "plt.style.use(['science', 'notebook'])\n",
        "plt.rcParams[\"svg.fonttype\"] = \"none\"\n",
        "\n",
        "fig, ax = plt.subplots(figsize=(6,4), dpi=300)\n",
        "plt.plot(epoch, small_train_loss_arr, color='#C41E3A', linewidth=1.5, label='Training')\n",
        "plt.plot(epoch, small_val_loss_arr, color='#00539B', linewidth=1.5, label='Validation')\n",
        "plt.xlabel('Epoch', fontsize=16)\n",
        "plt.ylabel('MSE', fontsize=16)\n",
        "plt.xlim([0, 300])\n",
        "plt.ylim([1e-4, 1])\n",
        "plt.yscale('log')\n",
        "plt.legend(fontsize=16)\n",
        "\n",
        "plt.tick_params(axis='both', labelsize=12)\n",
        "ax.xaxis.set_label_position(\"top\")\n",
        "#ax.yaxis.set_label_position(\"right\")\n",
        "ax.xaxis.set_tick_params(labeltop=True, labelbottom=False)\n",
        "#ax.yaxis.set_tick_params(labelright=True, labelleft=False)"
      ]
    },
    {
      "cell_type": "code",
      "execution_count": null,
      "metadata": {
        "id": "7f64rOpudNsi"
      },
      "outputs": [],
      "source": [
        "fig.savefig(\"underfitting.svg\", transparent=True)"
      ]
    }
  ],
  "metadata": {
    "accelerator": "GPU",
    "colab": {
      "collapsed_sections": [
        "krrbayEYF5zu",
        "cqqVk1nfTZbI"
      ],
      "provenance": [],
      "authorship_tag": "ABX9TyPnogNYpJpT+HbNR7Ku9ElH",
      "include_colab_link": true
    },
    "gpuClass": "standard",
    "kernelspec": {
      "display_name": "Python 3",
      "name": "python3"
    },
    "language_info": {
      "name": "python"
    }
  },
  "nbformat": 4,
  "nbformat_minor": 0
}